{
 "metadata": {
  "name": "",
  "signature": "sha256:d16a8716a76f283cc5063cef33bc09473914ef00fc10d189819e13a6fc6d18e7"
 },
 "nbformat": 3,
 "nbformat_minor": 0,
 "worksheets": [
  {
   "cells": [
    {
     "cell_type": "code",
     "collapsed": false,
     "input": [
      "import urllib2\n",
      "import json\n",
      "import time"
     ],
     "language": "python",
     "metadata": {},
     "outputs": [],
     "prompt_number": 15
    },
    {
     "cell_type": "code",
     "collapsed": false,
     "input": [
      "randomuser = urllib2.urlopen('http://api.randomuser.me/?results=40')\n",
      "results = json.loads(randomuser.read())\n",
      "users=results['results']"
     ],
     "language": "python",
     "metadata": {},
     "outputs": [],
     "prompt_number": 29
    },
    {
     "cell_type": "code",
     "collapsed": false,
     "input": [
      "users[0]"
     ],
     "language": "python",
     "metadata": {},
     "outputs": [
      {
       "metadata": {},
       "output_type": "pyout",
       "prompt_number": 35,
       "text": [
        "{u'seed': u'86bac266ed852435',\n",
        " u'user': {u'SSN': u'255-10-2915',\n",
        "  u'cell': u'(387)-746-1449',\n",
        "  u'dob': u'70263753',\n",
        "  u'email': u'patsy.lawrence28@example.com',\n",
        "  u'gender': u'female',\n",
        "  u'location': {u'city': u'henderson',\n",
        "   u'state': u'delaware',\n",
        "   u'street': u'6047 stevens creek blvd',\n",
        "   u'zip': u'84072'},\n",
        "  u'md5': u'f7b3ecc7c59361c6b9e3f04937c69235',\n",
        "  u'name': {u'first': u'patsy', u'last': u'lawrence', u'title': u'mrs'},\n",
        "  u'password': u'company',\n",
        "  u'phone': u'(978)-304-7498',\n",
        "  u'picture': {u'large': u'http://api.randomuser.me/portraits/women/68.jpg',\n",
        "   u'medium': u'http://api.randomuser.me/portraits/med/women/68.jpg',\n",
        "   u'thumbnail': u'http://api.randomuser.me/portraits/thumb/women/68.jpg'},\n",
        "  u'registered': u'969902287',\n",
        "  u'salt': u'JBgVaWk3',\n",
        "  u'sha1': u'0cc3195ed42ab5d61508cfdbc30864f6a438570b',\n",
        "  u'sha256': u'63c673da40fa11e7224bfd69d9e6a29798e260ed3cb1744fbd7edd745ad42150',\n",
        "  u'username': u'organiccat468',\n",
        "  u'version': u'0.4.1'}}"
       ]
      }
     ],
     "prompt_number": 35
    },
    {
     "cell_type": "code",
     "collapsed": false,
     "input": [
      "uids=[i['seed'] for i in users]"
     ],
     "language": "python",
     "metadata": {},
     "outputs": [],
     "prompt_number": 36
    },
    {
     "cell_type": "code",
     "collapsed": false,
     "input": [
      "uid"
     ],
     "language": "python",
     "metadata": {},
     "outputs": []
    }
   ],
   "metadata": {}
  }
 ]
}