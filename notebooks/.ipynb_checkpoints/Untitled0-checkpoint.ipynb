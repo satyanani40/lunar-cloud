{
 "metadata": {
  "name": "",
  "signature": "sha256:f4d0106ac9ecbc72d758027193fac4bdfce0b6b01a27a2e0061189f914709310"
 },
 "nbformat": 3,
 "nbformat_minor": 0,
 "worksheets": [
  {
   "cells": [
    {
     "cell_type": "code",
     "collapsed": false,
     "input": [
      "import nltk\n",
      "from nltk.corpus import reuters\n"
     ],
     "language": "python",
     "metadata": {},
     "outputs": [],
     "prompt_number": 18
    },
    {
     "cell_type": "code",
     "collapsed": false,
     "input": [
      "s1=\"Going to watch a movie at inox with mani\"\n",
      "t1 = nltk.tokenize.word_tokenize(s1)\n",
      "words = nltk.pos_tag(t1)\n",
      "keywords=filter(lambda x:'NN' in x[1] or x[1]=='VB',words)\n"
     ],
     "language": "python",
     "metadata": {},
     "outputs": [],
     "prompt_number": 19
    },
    {
     "cell_type": "code",
     "collapsed": false,
     "input": [
      "print keywords"
     ],
     "language": "python",
     "metadata": {},
     "outputs": [
      {
       "output_type": "stream",
       "stream": "stdout",
       "text": [
        "[('watch', 'VB'), ('movie', 'NN'), ('inox', 'NN'), ('mani', 'NN')]\n"
       ]
      }
     ],
     "prompt_number": 20
    },
    {
     "cell_type": "code",
     "collapsed": false,
     "input": [
      "\n",
      "print keywords"
     ],
     "language": "python",
     "metadata": {},
     "outputs": [
      {
       "output_type": "stream",
       "stream": "stdout",
       "text": [
        "[('watch', 'VB'), ('movie', 'NN'), ('inox', 'NN'), ('mani', 'NN')]\n"
       ]
      }
     ],
     "prompt_number": 21
    },
    {
     "cell_type": "code",
     "collapsed": false,
     "input": [
      "for i in keywords:\n",
      "    for j in keywords:\n",
      "        if i!=j:\n",
      "            print i,j"
     ],
     "language": "python",
     "metadata": {},
     "outputs": [
      {
       "output_type": "stream",
       "stream": "stdout",
       "text": [
        "('watch', 'VB') ('movie', 'NN')\n",
        "('watch', 'VB') ('inox', 'NN')\n",
        "('watch', 'VB') ('mani', 'NN')\n",
        "('movie', 'NN') ('watch', 'VB')\n",
        "('movie', 'NN') ('inox', 'NN')\n",
        "('movie', 'NN') ('mani', 'NN')\n",
        "('inox', 'NN') ('watch', 'VB')\n",
        "('inox', 'NN') ('movie', 'NN')\n",
        "('inox', 'NN') ('mani', 'NN')\n",
        "('mani', 'NN') ('watch', 'VB')\n",
        "('mani', 'NN') ('movie', 'NN')\n",
        "('mani', 'NN') ('inox', 'NN')\n"
       ]
      }
     ],
     "prompt_number": 23
    },
    {
     "cell_type": "code",
     "collapsed": false,
     "input": [],
     "language": "python",
     "metadata": {},
     "outputs": []
    },
    {
     "cell_type": "markdown",
     "metadata": {},
     "source": [
      "http://www.monlp.com/2011/11/08/part-of-speech-tags/"
     ]
    },
    {
     "cell_type": "code",
     "collapsed": false,
     "input": [],
     "language": "python",
     "metadata": {},
     "outputs": []
    }
   ],
   "metadata": {}
  }
 ]
}