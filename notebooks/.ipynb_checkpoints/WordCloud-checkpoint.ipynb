{
 "metadata": {
  "name": "",
  "signature": "sha256:79f086af7dfeab45f1f5c6b122a9eb4f8fe5203a31e0a4a6eb7d16ad3a20bfc6"
 },
 "nbformat": 3,
 "nbformat_minor": 0,
 "worksheets": [
  {
   "cells": [
    {
     "cell_type": "code",
     "collapsed": false,
     "input": [
      "import nltk\n",
      "from nltk.corpus import wordnet\n",
      "import hashlib"
     ],
     "language": "python",
     "metadata": {},
     "outputs": [],
     "prompt_number": 25
    },
    {
     "cell_type": "code",
     "collapsed": false,
     "input": [
      "class WordCloud(dict):\n",
      "    def __init__(self):\n",
      "        pass\n",
      "    def __setitem__(self, key, val):\n",
      "        if key in self:\n",
      "            l=self[key]\n",
      "            l.append(val)\n",
      "            super(WordCloud, self).__setitem__(key, l)\n",
      "        else:\n",
      "            super(WordCloud, self).__setitem__(key, [val,])\n",
      "        \n",
      "\n",
      "\n",
      "\n",
      "def extract_keywords(sentence):\n",
      "    tokens = nltk.tokenize.word_tokenize(sentence)\n",
      "    word_tags = nltk.pos_tag(tokens)\n",
      "    keywords=filter(lambda x:'NN' in x[1] or 'VB' in x[1],word_tags)\n",
      "    return keywords\n",
      "\n",
      "\n",
      "\n",
      "sen=\"Installing windows and linux in my laptop.\"\n",
      "keywords = extract_keywords(sen)\n",
      "\n",
      "wordCloud = WordCloud()\n",
      "for keyword in keywords:\n",
      "    digest = hashlib.md5(sen).hexdigest()\n",
      "    wordCloud[digest]=keyword[0].lower()\n",
      "\n",
      "print wordCloud"
     ],
     "language": "python",
     "metadata": {},
     "outputs": [
      {
       "output_type": "stream",
       "stream": "stdout",
       "text": [
        "{'d8c74449a60516bab0cffef9e2d306a9': ['installing', 'windows', 'linux', 'laptop']}\n"
       ]
      }
     ],
     "prompt_number": 27
    },
    {
     "cell_type": "code",
     "collapsed": false,
     "input": [],
     "language": "python",
     "metadata": {},
     "outputs": []
    }
   ],
   "metadata": {}
  }
 ]
}